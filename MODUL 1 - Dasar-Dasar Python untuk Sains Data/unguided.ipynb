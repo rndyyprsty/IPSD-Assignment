{
  "nbformat": 4,
  "nbformat_minor": 0,
  "metadata": {
    "colab": {
      "provenance": []
    },
    "kernelspec": {
      "name": "python3",
      "display_name": "Python 3"
    },
    "language_info": {
      "name": "python"
    }
  },
  "cells": [
    {
      "cell_type": "code",
      "source": [
        "def cek_bilangan(angka):\n",
        "    if angka < 2:\n",
        "        return False\n",
        "    for i in range(2, angka):\n",
        "        if angka % i == 0:\n",
        "            return False\n",
        "    return True\n",
        "\n",
        "def cetak_pola(baris):\n",
        "    angka = 2\n",
        "    jumlah_angka = 1\n",
        "\n",
        "    for i in range(1, baris + 1):\n",
        "        hitungan = 0\n",
        "\n",
        "        if i == 1:\n",
        "            print(1)\n",
        "        else:\n",
        "            while hitungan < jumlah_angka:\n",
        "                if cek_bilangan(angka):\n",
        "                    print(angka, end=\" \")\n",
        "                    hitungan += 1\n",
        "                angka += 1\n",
        "            print()\n",
        "\n",
        "        jumlah_angka += 1\n",
        "\n",
        "cetak_pola(10)"
      ],
      "metadata": {
        "id": "3zLPta5pS6aa"
      },
      "execution_count": null,
      "outputs": []
    },
    {
      "cell_type": "code",
      "source": [
        "def gabung_list(list1, list2):\n",
        "\n",
        "    elemen_ganjil_list1 = list1[1::2]\n",
        "    elemen_ganjil_list2 = list2[1::2]\n",
        "\n",
        "    gabung = elemen_ganjil_list1 + elemen_ganjil_list2\n",
        "\n",
        "    gabung.sort(reverse=True)\n",
        "\n",
        "    return gabung\n",
        "\n",
        "list1 = [3, 14, 29, 36, 47]\n",
        "list2 = [4, 18, 23, 31, 50]\n",
        "\n",
        "hasil = gabung_list(list1, list2)\n",
        "print(hasil)"
      ],
      "metadata": {
        "id": "P8HypwyGURME"
      },
      "execution_count": null,
      "outputs": []
    },
    {
      "cell_type": "code",
      "source": [
        "saldo = 15000\n",
        "\n",
        "pin = \"1111\"\n",
        "percobaan = 3\n",
        "\n",
        "while percobaan > 0:\n",
        "    pin = input(\"Masukkan PIN: \")\n",
        "\n",
        "    if pin == pin:\n",
        "        print(\"selamat datang\")\n",
        "        break\n",
        "    else:\n",
        "        percobaan -= 1\n",
        "        print(f\"PIN salah, silahkan coba lagi. Sisa percobaan: {percobaan}\")\n",
        "\n",
        "    if percobaan == 0:\n",
        "        print(\"Rekening terblokir.\")\n",
        "        exit()\n",
        "\n",
        "jumlah_penarikan = int(input(\"Masukkan jumlah penarikan: \"))\n",
        "\n",
        "if jumlah_penarikan > saldo:\n",
        "    print(\"Saldo tidak cukup.\")\n",
        "else:\n",
        "    saldo -= jumlah_penarikan\n",
        "    print(f\"Penarikan berhasil. Sisa saldo: {saldo}\")"
      ],
      "metadata": {
        "id": "dmQkJaF-ZGim"
      },
      "execution_count": null,
      "outputs": []
    },
    {
      "cell_type": "code",
      "source": [
        "import csv\n",
        "\n",
        "asal_file = \"C:/Users/Randy\\Downloads/siswa_nilai (1).csv\"\n",
        "list_nilai = {}\n",
        "\n",
        "with open(asal_file, mode='r') as file:\n",
        "    csv_reader = csv.reader(file)\n",
        "    next(csv_reader)\n",
        "    for row in csv_reader:\n",
        "        nama = row[0]\n",
        "        nilai = int(row[1])\n",
        "        list_nilai[nama] = nilai\n",
        "print(\"Dictionary:\", list_nilai)\n",
        "\n",
        "rata_rata_nilai = sum(list_nilai.values()) / len(list_nilai)\n",
        "print(\"Rata-rata nilai:\", rata_rata_nilai)\n",
        "\n",
        "nilai_tertinggi = max(list_nilai, key=list_nilai.get)\n",
        "nilai_terendah = min(list_nilai, key=list_nilai.get)\n",
        "print(f\"Siswa nilai tertinggi yaitu {nilai_tertinggi}, nilainya {list_nilai[nilai_tertinggi]}\")\n",
        "print(f\"Siswa nilai terendah yaitu {nilai_terendah}, nilainya {list_nilai[nilai_terendah]}\")"
      ],
      "metadata": {
        "id": "ljp9mYqtSeKX"
      },
      "execution_count": null,
      "outputs": []
    },
    {
      "cell_type": "code",
      "source": [
        "import random\n",
        "\n",
        "def tebak_angka():\n",
        "    angka_rahasia = random.randint(1, 100)\n",
        "    percobaan = 5\n",
        "\n",
        "    print(\"Permainan tebak angka\")\n",
        "    print(\"Kita memilih angka antara 1 hingga 100.\")\n",
        "    print(f\"Ada 5 kali percobaan untuk menebak angka itu.\\n\")\n",
        "\n",
        "    for i in range(percobaan):\n",
        "        try:\n",
        "            tebakan = int(input(f\"Percobaan {i+1}: angka berapa: \"))\n",
        "        except ValueError:\n",
        "            print(\"angka tidak valid\")\n",
        "            continue\n",
        "\n",
        "        if tebakan == angka_rahasia:\n",
        "            print(\"tebakanmu benar.\")\n",
        "            break\n",
        "        elif tebakan > angka_rahasia:\n",
        "            print(\"coba kecilin angkanya.\")\n",
        "        else:\n",
        "            print(\"coba besarin angkanya.\")\n",
        "\n",
        "    else:\n",
        "        print(f\"Percobaan habis. Angkanya adalah {angka_rahasia}.\")\n",
        "\n",
        "tebak_angka()"
      ],
      "metadata": {
        "id": "SmgdxroSa6E7"
      },
      "execution_count": null,
      "outputs": []
    },
    {
      "cell_type": "code",
      "source": [
        "def faktorial(n):\n",
        "    if n == 0 or n == 1:\n",
        "        return 1\n",
        "    else:\n",
        "        return n * faktorial(n - 1)\n",
        "\n",
        "def urutan_faktorial(n):\n",
        "    for i in range(n + 1):\n",
        "        print(faktorial(i), end=\", \")\n",
        "\n",
        "n = 4\n",
        "urutan_faktorial(n)"
      ],
      "metadata": {
        "id": "gqHKuB43EPKL"
      },
      "execution_count": null,
      "outputs": []
    },
    {
      "cell_type": "code",
      "source": [
        "def koin_minimum(total_uang, koin, jumlah_koin):\n",
        "    dp = [float('inf')] * (total_uang + 1)\n",
        "    dp[0] = 0\n",
        "\n",
        "    for i in range(len(koin)):\n",
        "        nilai_koin = koin[i]\n",
        "        maks_jumlah = jumlah_koin[i]\n",
        "\n",
        "        for jumlah in range(1, maks_jumlah + 1):\n",
        "            for j in range(total_uang, nilai_koin - 1, -1):\n",
        "                dp[j] = min(dp[j], dp[j - nilai_koin] + 1)\n",
        "\n",
        "    if dp[total_uang] == float('inf'):\n",
        "        return -1\n",
        "\n",
        "    return dp[total_uang]\n",
        "\n",
        "total_uang = int(input(\"Masukkan jumlah uang: \"))\n",
        "koin = list(map(int, input(\"Masukkan nilai koin (pisah pake spasi): \").split()))\n",
        "jumlah_koin = list(map(int, input(\"Masukkan jumlah maksimal masing-masing koin (sesuai urutan): \").split()))\n",
        "\n",
        "hasil = koin_minimum(total_uang, koin, jumlah_koin)\n",
        "\n",
        "if hasil == -1:\n",
        "    print(\"Tidak mungkin mencapai jumlah.\")\n",
        "else:\n",
        "    print(f\"koin minimum yang dibutuhkan: {hasil}\")"
      ],
      "metadata": {
        "id": "AtFHHPmfE_kh"
      },
      "execution_count": null,
      "outputs": []
    },
    {
      "cell_type": "code",
      "source": [
        "input_str = input(\"Masukkan kalimat: \")\n",
        "\n",
        "list_kata = input_str.split()\n",
        "\n",
        "list_kata_terbalik = [kata[::-1] for kata in list_kata]\n",
        "\n",
        "print(list_kata_terbalik)"
      ],
      "metadata": {
        "id": "uf1q85mDIkF5"
      },
      "execution_count": null,
      "outputs": []
    },
    {
      "cell_type": "code",
      "source": [
        "class Buku:\n",
        "    def __init__(self, judul, penulis, tahun_terbit):\n",
        "        self.judul = judul\n",
        "        self.penulis = penulis\n",
        "        self.tahun_terbit = tahun_terbit\n",
        "\n",
        "    def tampilkan_info(self):\n",
        "        print(f\"Judul: {self.judul}\")\n",
        "        print(f\"Penulis: {self.penulis}\")\n",
        "        print(f\"Tahun Terbit: {self.tahun_terbit}\")\n",
        "\n",
        "    def hitung_usia(self, tahun_sekarang):\n",
        "        usia = tahun_sekarang - self.tahun_terbit\n",
        "        return usia\n",
        "\n",
        "buku1 = Buku(\"Blink\", \"Malcolm Gladwell\", 2005)\n",
        "buku2 = Buku(\"A Brief History of Time\", \"Stephen Hawking\", 1988)\n",
        "buku3 = Buku(\"Homodeus\", \"Yuval Noah Harari\", 2015)\n",
        "\n",
        "tahun_ini = 2024\n",
        "\n",
        "list_buku = [buku1, buku2, buku3]\n",
        "for buku in list_buku:\n",
        "    buku.tampilkan_info()\n",
        "    print(f\"Usia Buku: {buku.hitung_usia(tahun_ini)} tahun\\n\")"
      ],
      "metadata": {
        "id": "8ZfXpnYjIk9g"
      },
      "execution_count": null,
      "outputs": []
    },
    {
      "cell_type": "code",
      "source": [
        "def pencarian_biner(arr, target):\n",
        "    if target % 2 != 0:\n",
        "        return f\"Nilai {target} ganjil, tidak bisa ditemukan.\"\n",
        "\n",
        "    bawah = 0\n",
        "    atas = len(arr) - 1\n",
        "\n",
        "    while bawah <= atas:\n",
        "        tengah = (bawah + atas) // 2\n",
        "        if arr[tengah] == target:\n",
        "            return f\"Nilai {target} ada di indeks {tengah}.\"\n",
        "        elif arr[tengah] < target:\n",
        "            bawah = tengah + 1\n",
        "        else:\n",
        "            atas = tengah - 1\n",
        "\n",
        "    return f\"Nilai {target} tidak ditemukan.\"\n",
        "\n",
        "list_genap = [2, 8, 16, 20, 32, 36, 40]\n",
        "target = int(input(\"nilai yang dicari: \"))\n",
        "print(pencarian_biner(list_genap, target))"
      ],
      "metadata": {
        "id": "wP6fw0MMLkS6"
      },
      "execution_count": null,
      "outputs": []
    }
  ]
}