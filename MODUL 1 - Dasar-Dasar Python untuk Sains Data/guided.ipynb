{
  "nbformat": 4,
  "nbformat_minor": 0,
  "metadata": {
    "colab": {
      "provenance": []
    },
    "kernelspec": {
      "name": "python3",
      "display_name": "Python 3"
    },
    "language_info": {
      "name": "python"
    }
  },
  "cells": [
    {
      "cell_type": "code",
      "execution_count": null,
      "metadata": {
        "colab": {
          "base_uri": "https://localhost:8080/"
        },
        "id": "V43nYKZApbFo",
        "outputId": "a715a3ae-a8e4-424e-c261-014f4db3607a"
      },
      "outputs": [
        {
          "output_type": "stream",
          "name": "stdout",
          "text": [
            "Ganjil\n"
          ]
        }
      ],
      "source": [
        "number = 7\n",
        "\n",
        "if number % 2 == 0:\n",
        "  print (\"Genap\")\n",
        "else:\n",
        "  print (\"Ganjil\")"
      ]
    },
    {
      "cell_type": "code",
      "source": [
        "try:\n",
        "  result = 10 / 0\n",
        "except ZeroDivisionError:\n",
        "  print(\"Division by zero is not allowed\")"
      ],
      "metadata": {
        "colab": {
          "base_uri": "https://localhost:8080/"
        },
        "id": "7Xgt3W_dryLL",
        "outputId": "63fe9302-8664-42ba-f4f8-1e38d380decb"
      },
      "execution_count": 1,
      "outputs": [
        {
          "output_type": "stream",
          "name": "stdout",
          "text": [
            "Division by zero is not allowed\n"
          ]
        }
      ]
    },
    {
      "cell_type": "code",
      "source": [
        "angka = 'ini angka'\n",
        "try:\n",
        "  angka = int(angka)\n",
        "except ValueError:\n",
        "  print(\"\")"
      ],
      "metadata": {
        "colab": {
          "base_uri": "https://localhost:8080/"
        },
        "id": "XkXdByvWUaPo",
        "outputId": "37803b5f-7431-4635-e870-607af071ebea"
      },
      "execution_count": 3,
      "outputs": [
        {
          "output_type": "stream",
          "name": "stdout",
          "text": [
            "\n"
          ]
        }
      ]
    },
    {
      "cell_type": "code",
      "source": [
        "try:\n",
        "  result = 10 / 0\n",
        "except ZeroDivisionError:\n",
        "  print(\"Division by zero is not allowed\")\n",
        "finally:\n",
        "  print(\"This will execute regardless of an exception\")"
      ],
      "metadata": {
        "colab": {
          "base_uri": "https://localhost:8080/"
        },
        "id": "DP6weoqFuIzB",
        "outputId": "fa486181-cb95-4ce5-a10d-8e8f13cb93fc"
      },
      "execution_count": null,
      "outputs": [
        {
          "output_type": "stream",
          "name": "stdout",
          "text": [
            "Division by zero is not allowed at any cost\n",
            "This will execute regardless of an exception\n"
          ]
        }
      ]
    },
    {
      "cell_type": "code",
      "source": [
        "class Mahasiswa:\n",
        "  def __init__(self, nama, umur, jenis_kelamin):\n",
        "    self.nama = nama\n",
        "    self.u = umur\n",
        "    self.jk = jenis_kelamin\n",
        "\n",
        "  def tampilkan_informasi(self):\n",
        "    print(f\"Nama: {self.nama}, Umur: {self.u}, Jenis Kelamin {self.jk}\")"
      ],
      "metadata": {
        "id": "sf6agysEwWHo"
      },
      "execution_count": null,
      "outputs": []
    },
    {
      "cell_type": "code",
      "source": [
        "mhs = Mahasiswa('yanto', 98, 'Laki-laki')\n",
        "mhs.tampilkan_informasi()"
      ],
      "metadata": {
        "colab": {
          "base_uri": "https://localhost:8080/"
        },
        "id": "QIiLp_w5q7_g",
        "outputId": "7422691d-79ce-4cee-fc8d-233bf2608b4f"
      },
      "execution_count": null,
      "outputs": [
        {
          "output_type": "stream",
          "name": "stdout",
          "text": [
            "Nama: yanto, Umur: 98, Jenis Kelamin Laki-laki\n"
          ]
        }
      ]
    },
    {
      "cell_type": "code",
      "source": [
        "class person:\n",
        "  def __init__(self,name):\n",
        "    self.name = name\n",
        "\n",
        "class Mahasiswa(person):\n",
        "  def __init__(self, name, umur):\n",
        "    super().__init__(name)\n",
        "    self.umur = umur\n",
        "\n",
        "mahasiswa = Mahasiswa(\"Alice\", 20)\n",
        "print(mahasiswa.name, mahasiswa.umur)"
      ],
      "metadata": {
        "id": "PhOfGlBzwXLq",
        "colab": {
          "base_uri": "https://localhost:8080/"
        },
        "outputId": "9ab83b95-9e7e-431b-854c-d7709906cab5"
      },
      "execution_count": null,
      "outputs": [
        {
          "output_type": "stream",
          "name": "stdout",
          "text": [
            "Alice 20\n"
          ]
        }
      ]
    }
  ]
}